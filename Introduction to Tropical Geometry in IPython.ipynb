{
 "metadata": {
  "name": "",
  "signature": "sha256:9ac06877254c15396d02be16887ea8567370627e498baea323395f4edd91b97b"
 },
 "nbformat": 3,
 "nbformat_minor": 0,
 "worksheets": [
  {
   "cells": [
    {
     "cell_type": "markdown",
     "metadata": {},
     "source": [
      "# Introduction to Tropical Geometry in IPython\n",
      "\n",
      "\n",
      "\n",
      "\n",
      "## \u8521\u708e\u9f8d\n",
      "\n",
      "### \u653f\u6cbb\u5927\u5b78\u61c9\u7528\u6578\u5b78\u7cfb\n",
      "### 2015 \u5e74 3 \u6708 4 \u65e5\u65bc\u6771\u83ef\u5927\u5b78\u61c9\u7528\u6578\u5b78\u7cfb\n",
      "\n",
      "\n",
      "\n",
      "\n",
      "\n",
      "\n",
      "\n",
      "\n",
      "\n",
      "\n",
      "\n",
      "\n"
     ]
    },
    {
     "cell_type": "markdown",
     "metadata": {},
     "source": [
      "## \u4eca\u5929\u7684\u4e3b\u984c\n",
      "\n",
      "* \u4ecb\u7d39 Tropical Geometry\n",
      "* \u904b\u7528\u4e00\u500b\u53eb Python \u7684\u7a0b\u5f0f\u8a9e\u8a00\n",
      "* \u7279\u5225\u662f Python \u7684\u4e00\u500b\u524d\u7aef\u754c\u9762\u7a0b\u5f0f IPython"
     ]
    },
    {
     "cell_type": "markdown",
     "metadata": {},
     "source": [
      "## \u5728\u81ea\u5df1\u7684\u96fb\u8166\u4e0a\u88dd IPython\n",
      "\n",
      "\u6709\u500b\u5f88\u65b9\u4fbf\u7684, \u53eb\u505a <b style=\"color:red;\">Anaconda</b>, \u5404\u500b\u5e73\u53f0\u90fd\u6709, \u5e6b\u4f60\u88dd\u597d Python, \u5404\u7a2e\u91cd\u8981\u5957\u4ef6 (\u5c24\u5176\u662f\u79d1\u5b78\u8a08\u7b97\u3001\u8cc7\u6599\u5206\u6790\u76f8\u95dc), \u5305\u62ec\u4e86 IPython \u754c\u9762\u3002\n",
      "\n",
      "<a href=\"http://continuum.io/downloads\">Anaconda \u4e0b\u8f09\u5340</a>"
     ]
    },
    {
     "cell_type": "markdown",
     "metadata": {},
     "source": [
      "## \u71b1\u5e36\u5e7e\u4f55\n",
      "\n",
      "\u71b1\u5e36\u5e7e\u4f55 (tropical geometry) \u5c31\u662f\u5efa\u69cb\u5728 <b style=\"color:red;\">tropical semi-field</b> \u7684\u5e7e\u4f55\u5b78\u3002"
     ]
    },
    {
     "cell_type": "markdown",
     "metadata": {},
     "source": [
      "## Tropical Semi-Ring (Tropical Semi-Field)\n",
      "\n",
      "\u5728 $\\mathbb{R}$ \u4e0a\u5b9a\u7fa9\u300c\u65b0\u7684\u300d\u52a0\u6cd5\u548c\u4e58\u6cd5\u3002\n",
      "\n",
      "* $a \\oplus b = \\max{(a,b)}$\n",
      "* $a \\odot b = a + b$"
     ]
    },
    {
     "cell_type": "code",
     "collapsed": false,
     "input": [
      "class trop:\n",
      "    \"\"\"\u4f7f\u7528 trop \u5b9a\u7fa9\u71b1\u5e36\u6578\u5b57, \u52a0\u6cd5\u548c\u4e58\u6cd5\u90fd\u662f\u71b1\u5e36\u7248\u7684\u3002\"\"\"\n",
      "    def __init__(self, num):\n",
      "        self.num = num\n",
      "    def __add__(self, other):\n",
      "        return trop(max(self.num, other.num))\n",
      "    def __mul__(self, other):\n",
      "        return trop(self.num + other.num)\n",
      "    def __str__(self):\n",
      "        return str(self.num)\n",
      "    def __repr__(self):\n",
      "        return str(self.num)"
     ],
     "language": "python",
     "metadata": {},
     "outputs": [],
     "prompt_number": 1
    },
    {
     "cell_type": "code",
     "collapsed": false,
     "input": [
      "a = trop(3)\n",
      "b = trop(5)"
     ],
     "language": "python",
     "metadata": {},
     "outputs": [],
     "prompt_number": 2
    },
    {
     "cell_type": "code",
     "collapsed": false,
     "input": [
      "a"
     ],
     "language": "python",
     "metadata": {},
     "outputs": [
      {
       "metadata": {},
       "output_type": "pyout",
       "prompt_number": 3,
       "text": [
        "3"
       ]
      }
     ],
     "prompt_number": 3
    },
    {
     "cell_type": "code",
     "collapsed": false,
     "input": [
      "b"
     ],
     "language": "python",
     "metadata": {},
     "outputs": [
      {
       "metadata": {},
       "output_type": "pyout",
       "prompt_number": 4,
       "text": [
        "5"
       ]
      }
     ],
     "prompt_number": 4
    },
    {
     "cell_type": "code",
     "collapsed": false,
     "input": [
      "a+b"
     ],
     "language": "python",
     "metadata": {},
     "outputs": [
      {
       "metadata": {},
       "output_type": "pyout",
       "prompt_number": 5,
       "text": [
        "5"
       ]
      }
     ],
     "prompt_number": 5
    },
    {
     "cell_type": "code",
     "collapsed": false,
     "input": [
      "a*b"
     ],
     "language": "python",
     "metadata": {},
     "outputs": [
      {
       "metadata": {},
       "output_type": "pyout",
       "prompt_number": 6,
       "text": [
        "8"
       ]
      }
     ],
     "prompt_number": 6
    },
    {
     "cell_type": "markdown",
     "metadata": {},
     "source": [
      "### [\u91cd\u9ede]\n",
      "\n",
      "* \u52a0\u6cd5\u7684\u55ae\u4f4d\u5143\u7d20\u662f $-\\infty$\u3002\n",
      "* \u52a0\u6cd5\u6c92\u6709\u53cd\u5143\u7d20 (\u6240\u4ee5\u52a0\u6cd5\u4e0d\u6210\u7fa4)\u3002\n",
      "* \u4e58\u6cd5\u7684\u55ae\u4f4d\u5143\u7d20\u662f $0$\u3002"
     ]
    },
    {
     "cell_type": "markdown",
     "metadata": {},
     "source": [
      "## \u5728 IPython \u4e2d\u5f15\u5165\u57fa\u672c\u5957\u4ef6\n",
      "\n",
      "\u5728 IPython \u4e2d, \u6709\u500b\u53eb\u300c\u9b54\u8853\u51fd\u6578\u300d\u7684\u6307\u4ee4\u7cfb\u5217, \u9019\u4e0d\u662f Python \u5167\u5efa\u7684, \u4f46\u5f88\u65b9\u4fbf\u3002\n",
      "\n",
      "    %pylab inline\n",
      "    \n",
      "\u6703\u628a\u5e7e\u500b\u91cd\u8981\u7684 Python \u5957\u4ef6\u8b80\u9032\u4f86:\n",
      "\n",
      "    numpy: Python \u7684\u79d1\u5b78\u8a08\u7b97\u5957\u4ef6\n",
      "    matplotlib: Python \u8457\u540d\u756b\u5716\u7a0b\u5f0f\n",
      "    \n",
      "\"inline\" \u7684\u610f\u601d\u662f\u6703\u628a\u5716\u76f4\u63a5\u5728\u7db2\u9801\u4e0a\u5448\u73fe, \u4e0d\u7528\u53e6\u958b\u756b\u5716\u8996\u7a97\u3002"
     ]
    },
    {
     "cell_type": "code",
     "collapsed": false,
     "input": [
      "%pylab inline"
     ],
     "language": "python",
     "metadata": {},
     "outputs": [
      {
       "output_type": "stream",
       "stream": "stdout",
       "text": [
        "Populating the interactive namespace from numpy and matplotlib\n"
       ]
      }
     ],
     "prompt_number": 7
    },
    {
     "cell_type": "markdown",
     "metadata": {},
     "source": [
      "\u756b\u500b (\u4e00\u822c\u51fd\u6578\u7684) \u5716\u8a66\u8a66\u3002"
     ]
    },
    {
     "cell_type": "code",
     "collapsed": false,
     "input": [
      "x = linspace(0, 5, 100) # x \u7684\u7bc4\u570d\u662f 0 \u5230 5, \u53d6 100 \u9ede"
     ],
     "language": "python",
     "metadata": {},
     "outputs": [],
     "prompt_number": 8
    },
    {
     "cell_type": "code",
     "collapsed": false,
     "input": [
      "plot(x, sin(x) + 0.5*x)"
     ],
     "language": "python",
     "metadata": {},
     "outputs": [
      {
       "metadata": {},
       "output_type": "pyout",
       "prompt_number": 9,
       "text": [
        "[<matplotlib.lines.Line2D at 0x105f1cc50>]"
       ]
      },
      {
       "metadata": {},
       "output_type": "display_data",
       "png": "[encoded data removed]",
       "text": [
        "<matplotlib.figure.Figure at 0x105e7c610>"
       ]
      }
     ],
     "prompt_number": 9
    },
    {
     "cell_type": "markdown",
     "metadata": {},
     "source": [
      "## Tropical Polynomials\n",
      "\n",
      "(\u4e00\u500b\u8b8a\u6578\u7684) \u71b1\u5e36\u591a\u9805\u5f0f\u81ea\u7136\u5c31\u662f\u4e00\u822c\u591a\u9805\u5f0f, \u53ea\u662f\u52a0\u6cd5\u548c\u4e58\u6cd5\u63db\u6210\u71b1\u5e36\u7248\u7684\u3002"
     ]
    },
    {
     "cell_type": "markdown",
     "metadata": {},
     "source": [
      "### [\u7bc4\u4f8b]\n",
      "\n",
      "$$f(x) = x^{\\odot 2} \\oplus 2 \\odot x \\oplus 3$$"
     ]
    },
    {
     "cell_type": "code",
     "collapsed": false,
     "input": [
      "def f(x):\n",
      "    xt = trop(x)\n",
      "    result =  (xt)*xt + trop(2)*xt + trop(3)\n",
      "    return result.num"
     ],
     "language": "python",
     "metadata": {},
     "outputs": [],
     "prompt_number": 10
    },
    {
     "cell_type": "code",
     "collapsed": false,
     "input": [
      "y = map(f, x)"
     ],
     "language": "python",
     "metadata": {},
     "outputs": [],
     "prompt_number": 11
    },
    {
     "cell_type": "code",
     "collapsed": false,
     "input": [
      "plot(x,y)\n",
      "ylim(0,8)\n",
      "xlim(0,4)"
     ],
     "language": "python",
     "metadata": {},
     "outputs": [
      {
       "metadata": {},
       "output_type": "pyout",
       "prompt_number": 12,
       "text": [
        "(0, 4)"
       ]
      },
      {
       "metadata": {},
       "output_type": "display_data",
       "png": "[encoded data removed]",
       "text": [
        "<matplotlib.figure.Figure at 0x104460fd0>"
       ]
      }
     ],
     "prompt_number": 12
    },
    {
     "cell_type": "markdown",
     "metadata": {},
     "source": [
      "\u6ce8\u610f\u9019\u4e00\u5b9a\u662f piecewise linear, \u800c\u8f49\u6298\u9ede (\u975e\u7dda\u6027\u7684\u9ede) \u662f 1, 2\u3002"
     ]
    },
    {
     "cell_type": "markdown",
     "metadata": {},
     "source": [
      "### [\u89c0\u5bdf]\n",
      "\n",
      "\u6211\u5011\u7684\u5f0f\u5b50\u4f9d\u71b1\u5e36\u4ee3\u6578\u525b\u597d\u6703\u662f\n",
      "\n",
      "$$\\begin{align*}\n",
      "f(x) &= f(x) = x^{\\odot 2} \\oplus 2 \\odot x \\oplus 3\\\\\n",
      "&= (x \\oplus 1) \\odot (x \\oplus 2)\n",
      "\\end{align*}$$"
     ]
    },
    {
     "cell_type": "markdown",
     "metadata": {},
     "source": [
      "\u9019\u500b 1 \u548c 2 \u525b\u525b\u5c31\u597d\u50cf\u6211\u5011\u7684\u6839 (root)\u3002\u9019\u4e9b\u6839\u525b\u597d\u662f\u591a\u9805\u5f0f\u7684\u4e09\u9805\n",
      "\n",
      "$$2x, 2+x, 3$$\n",
      "\n",
      "\u5169\u9805\u540c\u6642\u9054\u5230\u6700\u5927\u503c\u7684\u6642\u5019\u3002"
     ]
    },
    {
     "cell_type": "markdown",
     "metadata": {},
     "source": [
      "### Tropical Hypersurface\n",
      "\n",
      "\u71b1\u5e36 (\u4ee3\u6578) \u8d85\u66f2\u9762\u662f $(c_1, c_2, \\ldots, c_n)$ \u4ee3\u5165\u71b1\u5e36\u591a\u9805\u5f0f $f(x_1, x_2, \\ldots, x_n)$ \u4f7f\u5176\u540c\u6642\u6709\u5169\u9805 (\u6216\u4ee5\u4e0a) \u9054\u5230\u6700\u5927\u503c\u7684\u96c6\u5408\u3002"
     ]
    },
    {
     "cell_type": "markdown",
     "metadata": {},
     "source": [
      "### [\u7bc4\u4f8b]\n",
      "\n",
      "\u71b1\u5e36\u76f4\u7dda\u3002\n",
      "\n",
      "$$f(x,y) = x \\oplus y \\oplus 1$$"
     ]
    },
    {
     "cell_type": "markdown",
     "metadata": {},
     "source": [
      "\u6211\u5011\u8981\u627e\u5728\u5e73\u9762\u4e0a, \n",
      "\n",
      "$$x, y, 1$$\n",
      "\n",
      "\u4e09\u9805\u4e2d, \u6709\u5169\u9805 (\u6216\u4ee5\u4e0a) \u540c\u6642\u9054\u6700\u5927\u503c\u7684\u9ede\u3002"
     ]
    },
    {
     "cell_type": "markdown",
     "metadata": {},
     "source": [
      "#### \u6c92\u6709\u5f88\u8a8d\u771f\u5beb\u7684\u4e00\u500b\u756b\u5716\u5c0f\u5957\u4ef6"
     ]
    },
    {
     "cell_type": "code",
     "collapsed": false,
     "input": [
      "def drawgraph(points, lines, xy=[-2,5,-2,5], c=(0,0,0)):\n",
      "    \"\"\"points \u7684\u683c\u5f0f\u5982 [[x1, y1], [x2, y2], [x3, y3]]\n",
      "    lines \u70ba [[i1, j1], [i2, j2]] \u7b49\u7b49, \u6bcf\u500b\u6578\u5c0d [i,j] \u8868\u5f9e i \u9023\u5230 j \u7684\u7dda\u6bb5\"\"\"\n",
      "    X = [x[0] for x in points]\n",
      "    Y = [y[1] for y in points]\n",
      "    cor_lines = [[points[l[0]],points[l[1]]] for l in lines]\n",
      "    line_segments = mpl.collections.LineCollection(cor_lines,colors=c,linewidth=3)\n",
      "    fig, ax = subplots()\n",
      "    ax.add_collection(line_segments)\n",
      "    ax.set_xlim(xy[0],xy[1])\n",
      "    ax.set_ylim(xy[2],xy[3])\n",
      "    ax.scatter(X,Y, c=(0,0,0), s=40)\n",
      "    ax.axison = False"
     ],
     "language": "python",
     "metadata": {},
     "outputs": [],
     "prompt_number": 13
    },
    {
     "cell_type": "code",
     "collapsed": false,
     "input": [
      "# 0:(1,1) 1:(6,6) 2:(-5,0) 3:(0,-5)\n",
      "P = [[1,1], [6,6], [-5,1], [1,-5]]\n",
      "L = [[0,1], [0,2], [0,3]]"
     ],
     "language": "python",
     "metadata": {},
     "outputs": [],
     "prompt_number": 14
    },
    {
     "cell_type": "markdown",
     "metadata": {},
     "source": [
      "\u7b2c\u4e00\u6bb5: $x = y \\geq 1$"
     ]
    },
    {
     "cell_type": "code",
     "collapsed": false,
     "input": [
      "drawgraph(P, L[:1])"
     ],
     "language": "python",
     "metadata": {},
     "outputs": [
      {
       "metadata": {},
       "output_type": "display_data",
       "png": "[encoded data removed]",
       "text": [
        "<matplotlib.figure.Figure at 0x106061150>"
       ]
      }
     ],
     "prompt_number": 15
    },
    {
     "cell_type": "markdown",
     "metadata": {},
     "source": [
      "\u7b2c\u4e8c\u6bb5: $y=1 \\geq x$"
     ]
    },
    {
     "cell_type": "code",
     "collapsed": false,
     "input": [
      "drawgraph(P, L[:2])"
     ],
     "language": "python",
     "metadata": {},
     "outputs": [
      {
       "metadata": {},
       "output_type": "display_data",
       "png": "[encoded data removed]",
       "text": [
        "<matplotlib.figure.Figure at 0x1060d5dd0>"
       ]
      }
     ],
     "prompt_number": 16
    },
    {
     "cell_type": "markdown",
     "metadata": {},
     "source": [
      "\u7b2c\u4e09\u6bb5: $x=1 \\geq y$"
     ]
    },
    {
     "cell_type": "code",
     "collapsed": false,
     "input": [
      "drawgraph(P, L)"
     ],
     "language": "python",
     "metadata": {},
     "outputs": [
      {
       "metadata": {},
       "output_type": "display_data",
       "png": "[encoded data removed]",
       "text": [
        "<matplotlib.figure.Figure at 0x10638f3d0>"
       ]
      }
     ],
     "prompt_number": 17
    },
    {
     "cell_type": "code",
     "collapsed": false,
     "input": [
      "triP = [[0,0], [1,0], [0,1]]\n",
      "triL = [[0,1], [1,2], [2,0]]\n",
      "drawgraph(triP, triL, xy=[-2,2,-2,2], c=(1,0,0))\n",
      "text(-0.3,-0.3, \"(0,0): const\", fontsize=14)\n",
      "text(1, -0.3, \"(1,0): $x$\", fontsize=14)\n",
      "text(-0.3, 1.2, \"(0,1): $y$\", fontsize=14)"
     ],
     "language": "python",
     "metadata": {},
     "outputs": [
      {
       "metadata": {},
       "output_type": "pyout",
       "prompt_number": 18,
       "text": [
        "<matplotlib.text.Text at 0x10638f790>"
       ]
      },
      {
       "metadata": {},
       "output_type": "display_data",
       "png": "[encoded data removed]",
       "text": [
        "<matplotlib.figure.Figure at 0x105fbcc10>"
       ]
      }
     ],
     "prompt_number": 18
    },
    {
     "cell_type": "markdown",
     "metadata": {},
     "source": [
      "\u6211\u5011\u4ee3\u8868\u591a\u9805\u5f0f\u5404\u9805\u6307\u6578\u90e8\u4efd\u7684\u9ede, \u5982\u679c\u540c\u6642\u6709\u540c\u6642\u53ef\u80fd\u9054\u5230\u6700\u5927\u503c\u5c31\u9023\u7dda, \u5c31\u6210\u4e00\u500b\u4e09\u89d2\u5f62\u5206\u5272 (\u96d6\u7136\u6211\u5011\u9019\u88e1\u7684\u5206\u5272\u53ea\u6709 trivial \u5206\u5272)\u3002\u9019\u500b\u662f\u6211\u5011\u71b1\u5e36\u66f2\u7dda\u7684 <b style=\"color:red;\">dual graph</b>\u3002"
     ]
    },
    {
     "cell_type": "markdown",
     "metadata": {},
     "source": [
      "## \u71b1\u5e36\u5e7e\u4f55\u5230\u5e95\u600e\u9ebc\u4f86?"
     ]
    },
    {
     "cell_type": "markdown",
     "metadata": {},
     "source": [
      "### \u539f\u672c\u662f\u61c9\u7528\u5230\u96fb\u8166\u7684\u6578\u5b78\n",
      "\n",
      "Imre Simon, \u5df4\u897f\u7684\u96fb\u8166/\u6578\u5b78\u5bb6, \u548c\u4e00\u7fa4\u6cd5\u570b\u7684\u5b78\u8005\u7814\u7a76\u6211\u5011\u6240\u8aaa\u90a3\u7279\u6b8a\u7d50\u69cb\u7684\u4ee3\u6578\u7d50\u69cb, \u5728\u96fb\u8166\u9818\u57df\u4e0a\u51fa\u4e86\u4e00\u4e9b\u61c9\u7528\u3002"
     ]
    },
    {
     "cell_type": "markdown",
     "metadata": {},
     "source": [
      "\u6cd5\u570b\u90a3\u7fa4\u5b78\u8005\u70ba\u4e86\u8868\u5f70 Simon \u7684\u8ca2\u737b, \u628a\u9019\u500b\u7d50\u69cb\u53eb<b style=\"color:red;\">\u300c\u71b1\u5e36\u300d</b>\u534a\u74b0\u3002"
     ]
    },
    {
     "cell_type": "markdown",
     "metadata": {},
     "source": [
      "### \u6578\u5b78\u4e0a\u600e\u9ebc\u4f86\u7684"
     ]
    },
    {
     "cell_type": "markdown",
     "metadata": {},
     "source": [
      "* Grigory Mikhalkin \u548c Bernd Sturmfels \u5206\u5225\u4ee5\u4e0d\u540c\u7684\u89d2\u5ea6\u5207\u5165, \u767c\u73fe\u90fd\u5c0e\u5411\u6211\u5011\u73fe\u5728\u7684\u71b1\u5e36\u5e7e\u4f55\u3002\n",
      "* 2002 \u5e74 3 \u6708, Sturmfels \u53bb\u7336\u4ed6\u5927\u5b78\u8a2a\u554f Mikhalkin, \u6c7a\u5b9a\u4f7f\u7528 \"Tropical Geometry\" \u9019\u500b\u8a5e\u3002"
     ]
    },
    {
     "cell_type": "markdown",
     "metadata": {},
     "source": [
      "## \u71b1\u5e36\u5e7e\u4f55\u53d7\u5230\u91cd\u8996\u7684\u4e3b\u8981\u61c9\u7528"
     ]
    },
    {
     "cell_type": "markdown",
     "metadata": {},
     "source": [
      "### Counting Curve"
     ]
    },
    {
     "cell_type": "markdown",
     "metadata": {},
     "source": [
      "* \u5728 $\\mathbb{CP}^2$ \u4e0a\u653e <b style=\"color:red;\">$3d + g - 1$</b> \u500b\u9ede (in general position)\u3002\n",
      "* \u5f88\u4e45\u4ee5\u524d\u6578\u5b78\u5bb6\u5c31\u77e5\u9053\u901a\u904e\u9019\u4e9b\u9ede, degree $d$, genus $g$ \u7684 holomorphic curve \u662f\u6709\u9650\u500b\u3002\n",
      "* \u6211\u5011\u628a\u9019\u901a\u904e\u9019\u4e9b\u9ede\u66f2\u7dda\u7684\u6578\u5b57\u7d66\u500b\u5f88\u70ab\u7684\u7b26\u865f $N_{g,d}^\\mathbb{C}$\u3002\n",
      "* \u9019\u500b\u6578\u5b57\u6b63\u662f\u5728 $\\mathbb{CP}^2$ \u4e0a\u7684 Gromov-Witten \u4e0d\u8b8a\u91cf\u3002"
     ]
    },
    {
     "cell_type": "markdown",
     "metadata": {},
     "source": [
      "### \u9019\u6578\u5b57\u4e0d\u597d\u7b97\n",
      "\n",
      "* [1994\u5e74] Kontsevich \u7b97\u51fa $g=0$ \u7684\u60c5\u6cc1\u3002\n",
      "* [1998\u5e74] Caporaso \u548c Harris \u7b97\u51fa\u4e00\u822c\u60c5\u6cc1\u3002"
     ]
    },
    {
     "cell_type": "markdown",
     "metadata": {},
     "source": [
      "### \u71b1\u5e36\u7248\u8d85\u5feb\u901f\n",
      "\n",
      "* Kontsevich \u8aaa, \u6211\u5011\u628a\u66f2\u7dda\u63a8\u5230\u7121\u6bd4\u9000\u5316\u7684\u60c5\u6cc1 (\u5c31\u662f\u6211\u5011\u7684\u71b1\u5e36\u66f2\u7dda), \u53ef\u4ee5\u7528\u5b83\u4f86\u7b97\u3002\n",
      "* 2000 \u5e74\u521d, Mikhalkin \u5c31\u771f\u7684\u7b97\u51fa\u4ee5\u524d\u5f88\u96e3\u7b97\u7684\u7b54\u6848!"
     ]
    },
    {
     "cell_type": "markdown",
     "metadata": {},
     "source": [
      "## \u71b1\u5e36\u7248\u600e\u9ebc\u7b97\u66f2\u7dda\u6578\u76ee"
     ]
    },
    {
     "cell_type": "markdown",
     "metadata": {},
     "source": [
      "### \u95dc\u9375\u5c31\u662f\u5c0d\u5076\u6027!\n",
      "\n",
      "\u6bd4\u5982\u6211\u5011\u6709\u500b\u4e09\u89d2\u5f62\u5206\u5272\u3002"
     ]
    },
    {
     "cell_type": "code",
     "collapsed": false,
     "input": [
      "P = [[0,3], [0,2], [0,1], [0,0], [1,2], [1,1], [1,0], [2,1], [2,0], [3,0]]\n",
      "L = [[0,3], [3,9], [0,9], [3,5], [1,4], [2,4], [3,5], [5,7], [4,6], [7,8]]"
     ],
     "language": "python",
     "metadata": {},
     "outputs": [],
     "prompt_number": 19
    },
    {
     "cell_type": "code",
     "collapsed": false,
     "input": [
      "drawgraph(P,L)"
     ],
     "language": "python",
     "metadata": {},
     "outputs": [
      {
       "metadata": {},
       "output_type": "display_data",
       "png": "[encoded data removed]",
       "text": [
        "<matplotlib.figure.Figure at 0x10447b290>"
       ]
      }
     ],
     "prompt_number": 20
    },
    {
     "cell_type": "code",
     "collapsed": false,
     "input": [
      "P = [[0,0], [-1,1], [1,1], [1,0], [-2,2], [-2,3], [2,-1], [3,-1],\n",
      "     [0,-5], [2,-5], [3,-5], [8,4], [6,6],\n",
      "     [5,10], [-4,3], [-4,2], [-4,1]]\n",
      "L = [[0,1], [1,2], [2,3], [0,3], [1,4], [4,5], [3,6], [6,7],\n",
      "     [0,8], [6,9], [7,10], [7,11], [2,12],\n",
      "     [5,13], [5,14], [4,15], [1,16]]"
     ],
     "language": "python",
     "metadata": {},
     "outputs": [],
     "prompt_number": 21
    },
    {
     "cell_type": "code",
     "collapsed": false,
     "input": [
      "drawgraph(P,L,xy=[-3,4,-3,4])"
     ],
     "language": "python",
     "metadata": {},
     "outputs": [
      {
       "metadata": {},
       "output_type": "display_data",
       "png": "[encoded data removed]",
       "text": [
        "<matplotlib.figure.Figure at 0x1061bd690>"
       ]
      }
     ],
     "prompt_number": 22
    },
    {
     "cell_type": "markdown",
     "metadata": {},
     "source": [
      "### Mikhalkin \u53c8\u8b49\u660e\n",
      "\n",
      "\u7b97\u4f86\u7b97\u53bb, \u71b1\u5e36\u7248\u548c\u53e4\u5178\u7248\u7684\u7b54\u6848\u662f\u4e00\u6a23\u7684!"
     ]
    },
    {
     "cell_type": "markdown",
     "metadata": {},
     "source": [
      "## \u591a\u9805\u5f0f\u7684\u5206\u89e3\n",
      "\n",
      "\u71b1\u5e36\u5e7e\u4f55\u958b\u59cb\u53d7\u91cd\u8996\u5f8c, \u5927\u5bb6\u5c31\u4f86\u554f\u4e00\u4e9b\u5404\u7a2e\u554f\u984c\u3002\n",
      "\n",
      "\u6bd4\u5982\u8aaa, \u591a\u9805\u5f0f\u5206\u89e3\u5bb9\u6613\u55ce?"
     ]
    },
    {
     "cell_type": "markdown",
     "metadata": {},
     "source": [
      "### \u63d2\u64ad: IPython \u5f88\u9177\u7684\u4e92\u52d5\u529f\u80fd"
     ]
    },
    {
     "cell_type": "code",
     "collapsed": false,
     "input": [
      "from IPython.html.widgets import interact"
     ],
     "language": "python",
     "metadata": {},
     "outputs": [],
     "prompt_number": 23
    },
    {
     "cell_type": "markdown",
     "metadata": {},
     "source": [
      "\u96a8\u4fbf\u4f86\u500b\u51fd\u6578\u3002"
     ]
    },
    {
     "cell_type": "code",
     "collapsed": false,
     "input": [
      "def f(x):\n",
      "    print x"
     ],
     "language": "python",
     "metadata": {},
     "outputs": [],
     "prompt_number": 24
    },
    {
     "cell_type": "markdown",
     "metadata": {},
     "source": [
      "\u5c31\u53ef\u4ee5\u4e92\u52d5!"
     ]
    },
    {
     "cell_type": "code",
     "collapsed": false,
     "input": [
      "interact(f, x=(0,10))"
     ],
     "language": "python",
     "metadata": {},
     "outputs": [
      {
       "output_type": "stream",
       "stream": "stdout",
       "text": [
        "5\n"
       ]
      },
      {
       "metadata": {},
       "output_type": "pyout",
       "prompt_number": 25,
       "text": [
        "<function __main__.f>"
       ]
      }
     ],
     "prompt_number": 25
    },
    {
     "cell_type": "markdown",
     "metadata": {},
     "source": [
      "### \u71b1\u5e36\u5e7e\u4f55\u591a\u9805\u5f0f\u8868\u6cd5\u4e0d\u552f\u4e00\n",
      "\n",
      "\u71b1\u5e36\u5e7e\u4f55\u4e2d, \u5169\u500b\u4e0d\u540c\u7684\u591a\u9805\u5f0f, \u53ef\u80fd\u8868\u793a\u540c\u4e00\u500b\u51fd\u6578\u3002\u4f8b\u5982:\n",
      "\n",
      "$$f(x) = 3 \\odot x^{\\odot 2} \\oplus 2 \\odot x \\oplus 1$$\n",
      "\n",
      "\u548c\n",
      "\n",
      "$$f(x) = 3 \\odot x^{\\odot 2} \\oplus 1 \\odot x \\oplus 1$$\n",
      "\n",
      "\u756b\u51fa\u4f86\u7684\u5716\u90fd\u662f\u4e00\u6a23\u7684\u3002"
     ]
    },
    {
     "cell_type": "code",
     "collapsed": false,
     "input": [
      "plot([-4,3], [1,1], 'black', label=\"$1$\")\n",
      "plot([-4,3], [-5,9], 'b', label=\"$3 \\odot x^{\\odot 2}$\")\n",
      "plot([-4,3], [-2,5], 'g', label=\"$2 \\odot x$\")\n",
      "plot([-4,-1,3],[1,1,9],'r', label=\"graph of $f(x)$\")\n",
      "ylim(-1,4)\n",
      "xlim(-3,2)\n",
      "ax = gca()\n",
      "ax.legend();"
     ],
     "language": "python",
     "metadata": {},
     "outputs": [
      {
       "metadata": {},
       "output_type": "display_data",
       "png": "[encoded data removed]",
       "text": [
        "<matplotlib.figure.Figure at 0x10609c610>"
       ]
      }
     ],
     "prompt_number": 26
    },
    {
     "cell_type": "markdown",
     "metadata": {},
     "source": [
      "\u5c55\u793a\u4e00\u4e0b\u70ba\u4ec0\u9ebc\u6703\u9019\u6a23\u3002"
     ]
    },
    {
     "cell_type": "code",
     "collapsed": false,
     "input": [
      "def max_poly(a):\n",
      "    plot([-4,3], [1,1], 'black', label=\"$1$\")\n",
      "    plot([-4,3], [-5,9], 'b', label=\"$3 \\odot x^{\\odot 2}$\")\n",
      "    plot([-4,3], [-4+a,3+a], 'g', label=\"$a \\odot x$\")\n",
      "    plot([-4,-1,3],[1,1,9],'r', label=\"graph of $f(x)$\")\n",
      "    ylim(-1,4)\n",
      "    xlim(-3,2)\n",
      "    ax = gca()\n",
      "    ax.legend();"
     ],
     "language": "python",
     "metadata": {},
     "outputs": [],
     "prompt_number": 27
    },
    {
     "cell_type": "code",
     "collapsed": false,
     "input": [
      "interact(max_poly, a=(0., 2.))"
     ],
     "language": "python",
     "metadata": {},
     "outputs": [
      {
       "metadata": {},
       "output_type": "pyout",
       "prompt_number": 28,
       "text": [
        "<function __main__.max_poly>"
       ]
      },
      {
       "metadata": {},
       "output_type": "display_data",
       "png": "[encoded data removed]",
       "text": [
        "<matplotlib.figure.Figure at 0x106092c10>"
       ]
      }
     ],
     "prompt_number": 28
    },
    {
     "cell_type": "markdown",
     "metadata": {},
     "source": [
      "### \u6700\u5927\u4fc2\u6578\u591a\u9805\u5f0f\n",
      "\n",
      "$f(x)$ \u662f\u4e00\u500b\u71b1\u5e36\u591a\u9805\u5f0f\u3002\u5982\u679c $f(x)$ \u4efb\u4f55\u4e00\u9805\u4fc2\u6578\u8b8a\u5927, \u90fd\u6703\u5b9a\u7fa9\u4e0d\u540c\u7684\u51fd\u6578, \u6211\u5011\u7a31 $f(x)$ \u70ba<b style=\"color:red;\">\u6700\u5927\u4fc2\u6578\u591a\u9805\u5f0f</b>\u3002"
     ]
    },
    {
     "cell_type": "markdown",
     "metadata": {},
     "source": [
      "#### \u73fe\u5728\u53ef\u4ee5\u770b\u51fa\u591a\u9805\u5f0f\u4e00\u4e0d\u4e00\u6a23\u4e86\n",
      "\n",
      "* \u6bcf\u500b\u71b1\u5e36\u591a\u9805\u5f0f $f(x)$ \u90fd\u6709\u552f\u4e00\u7684\u6700\u5927\u4fc2\u6578\u591a\u9805\u5f0f, \u5b9a\u7fa9\u4e00\u6a23\u7684\u51fd\u6578\u3002\n",
      "* \u5982\u679c $f(x)$, $g(x)$ \u90fd\u662f\u6700\u5927\u4fc2\u6578\u71b1\u5e36\u591a\u9805\u5f0f, \u4e14 $f(x)$, $g(x)$ \u662f\u4e0d\u540c\u7684\u591a\u9805\u5f0f, \u5247 $f(x)$ \u548c $g(x)$ \u5b9a\u7fa9\u4e0d\u540c\u7684\u51fd\u6578\u3002"
     ]
    },
    {
     "cell_type": "markdown",
     "metadata": {},
     "source": [
      "### \u71b1\u5e36\u4ee3\u6578\u5b78\u57fa\u672c\u5b9a\u7406\n",
      "\n",
      "\u5982\u679c\n",
      "\n",
      "$$f(x) = a_n \\odot x^{\\odot n} \\oplus a_{n-1} \\odot x^{\\odot (n -1)} \\oplus \\cdots \\oplus a_r \\odot x^r$$\n",
      "\n",
      "\u662f\u6700\u5927\u4fc2\u6578\u591a\u9805\u5f0f, \u6211\u5011\u53ef\u4ee5\u7acb\u523b\u627e\u5230\u9019\u500b\u591a\u9805\u5f0f\u7684\u6839, \u5c31\u662f:\n",
      "\n",
      "$$d_k = a_{k-1} - a_k$$\n",
      "\n",
      "\u5176\u4e2d\n",
      "\n",
      "$$k = r+1, r+2, \\ldots, n$$"
     ]
    },
    {
     "cell_type": "markdown",
     "metadata": {},
     "source": [
      "### [\u7bc4\u4f8b]\n",
      "\n",
      "\u4e4b\u524d\u7684\u4f8b\u5b50,\n",
      "\n",
      "$$f(x) = 3 \\odot x^{\\odot 2} \\oplus 2 \\odot x \\oplus 1$$\n",
      "\n",
      "\u5f9e\u5f8c\u9762\u6e1b\u56de\u4f86, \u5f97\n",
      "\n",
      "$$1 - 2 = -1 (d_1)$$\n",
      "\n",
      "\u53ca\n",
      "\n",
      "$$2 - 3 = -1 (d_2)$$\n",
      "\n",
      "\u6240\u4ee5 $x=-1$ \u662f\u9019\u500b\u71b1\u5e36\u591a\u9805\u5f0f\u7684\u6839 (\u91cd\u6839), \u65bc\u662f\u6211\u5011\u77ac\u9593\u53ef\u4ee5\u5206\u89e3\n",
      "\n",
      "$$\\begin{align*}\n",
      "f(x) &= 3 \\odot x^{\\odot 2} \\oplus 2 \\odot x \\oplus 1\\\\\n",
      "&= 3 \\odot (x\\oplus -1)^{\\odot 2}\n",
      "\\end{align*}$$"
     ]
    },
    {
     "cell_type": "markdown",
     "metadata": {},
     "source": [
      "### \u6211\u5011\u4e0d\u5c0f\u5fc3\u731c\u5230\n",
      "### [\u5b9a\u7406]\n",
      "\n",
      "$$f(x) = a_n \\odot x^{\\odot n} \\oplus a_{n-1} \\odot x^{\\odot (n -1)} \\oplus \\cdots \\oplus a_r \\odot x^r$$\n",
      "\n",
      "\u5982\u679c $f(x)$ \u662f\u6700\u5927\u4fc2\u6578\u591a\u9805\u5f0f, \u5247\u5f9e\u5c0f\u6b21\u65b9\u7684\u4fc2\u6578\u4e00\u8def\u6e1b\u4f86, \u5f97\u5230\n",
      "\n",
      "$$d_{r+1}, d_{r+2}, d_{r+3}, \\ldots$$\n",
      "\n",
      "\u9019\u5728 $x$ \u8ef8\u4e0a\u4e00\u5b9a\u8981\u7531\u5c0f\u8b8a\u5927! \u4e5f\u5c31\u662f\n",
      "\n",
      "$$d_{r+1} \\leq d_{r+2} \\leq d_{r+3} \\ldots$$\n",
      "\n",
      "\u4e00\u500b\u591a\u9805\u5f0f\n",
      "\n",
      "$$f(x) = a_n \\odot x^{\\odot n} \\oplus a_{n-1} \\odot x^{\\odot (n -1)} \\oplus \\cdots \\oplus a_r \\odot x^r$$\n",
      "\n",
      "\u662f\u6700\u5927\u4fc2\u6578\u591a\u9805\u5f0f, \u82e5\u4e14\u70ba\u82e5 $d_{r+1}, d_{r+2}, \\ldots$ \u6709\u4e0a\u8ff0\u95dc\u4fc2\u3002"
     ]
    },
    {
     "cell_type": "markdown",
     "metadata": {},
     "source": [
      "### [\u7bc4\u4f8b]\n",
      "\n",
      "$$f(x) = 3 \\odot x^{\\odot 4} \\oplus 4 \\odot x^{\\odot 2} \\oplus\n",
      "-1 \\odot x \\oplus 5$$"
     ]
    },
    {
     "cell_type": "markdown",
     "metadata": {},
     "source": [
      "\u6211\u5011\u6709 \n",
      "\n",
      "$$\\begin{align*}\n",
      "d_1 &= 5 - (-1) &= 6 \\\\\n",
      "d_2 &= -1-4 &= -5\n",
      "\\end{align*}$$\n",
      "\n",
      "\u5247 $d_1 > d_2$, \u6240\u4ee5 $f(x)$ \u4e0d\u662f\u6700\u5927\u4fc2\u6578\u591a\u9805\u5f0f\u3002"
     ]
    },
    {
     "cell_type": "markdown",
     "metadata": {},
     "source": [
      "### [\u7bc4\u4f8b]\n",
      "\n",
      "\u4e2d\u9593\u6709\u300c\u7f3a\u9805\u300d\u4e5f\u4e00\u5b9a\u4e0d\u662f\u6700\u5927\u4fc2\u6578\u591a\u9805\u5f0f, \u5982:\n",
      "\n",
      "$$x^{\\odot 2} \\oplus 3$$\n",
      "\n",
      "\u70ba\u4ec0\u9ebc, \u6ce8\u610f\u7f3a\u9805\u662f\u56e0\u70ba\u524d\u9762\u4fc2\u6578\u662f \"0\" (\u52a0\u6cd5\u55ae\u4f4d\u5143\u7d20), \u6240\u4ee5\u5728\u71b1\u5e36\u5e7e\u4f55\u662f $-\\infty$\u3002\u4e5f\u5c31\u662f\u6211\u5011\u7684\u591a\u9805\u5f0f\u662f\n",
      "\n",
      "$$0\\odot x^{\\odot 2} \\oplus -\\infty \\odot x \\oplus 3$$\n",
      "\n",
      "\u56e0\u6b64\n",
      "\n",
      "$$\\begin{align*}\n",
      "d_1 &= 3 - (-\\infty) &= \\infty \\\\\n",
      "d_2 &= -\\infty - 0 &= -\\infty\n",
      "\\end{align*}$$\n",
      "\n",
      "\u56e0\u6b64 $d_1 > d_2$ \u6545\u975e\u6700\u5927\u4fc2\u6578\u591a\u9805\u5f0f\u3002"
     ]
    },
    {
     "cell_type": "markdown",
     "metadata": {},
     "source": [
      "### Python \u4e5f\u6703\u8ca0\u7121\u7aae\u5927!"
     ]
    },
    {
     "cell_type": "code",
     "collapsed": false,
     "input": [
      "from sympy import *"
     ],
     "language": "python",
     "metadata": {},
     "outputs": [],
     "prompt_number": 29
    },
    {
     "cell_type": "markdown",
     "metadata": {},
     "source": [
      "\u8b93 Python \u6703\u7b97\u6709\u7406\u6578"
     ]
    },
    {
     "cell_type": "code",
     "collapsed": false,
     "input": [
      "a = S(1)"
     ],
     "language": "python",
     "metadata": {},
     "outputs": [],
     "prompt_number": 30
    },
    {
     "cell_type": "code",
     "collapsed": false,
     "input": [
      "a/3"
     ],
     "language": "python",
     "metadata": {},
     "outputs": [
      {
       "metadata": {},
       "output_type": "pyout",
       "prompt_number": 31,
       "text": [
        "1/3"
       ]
      }
     ],
     "prompt_number": 31
    },
    {
     "cell_type": "markdown",
     "metadata": {},
     "source": [
      "\u8ca0\u7121\u7aae\u4f86\u4e86"
     ]
    },
    {
     "cell_type": "code",
     "collapsed": false,
     "input": [
      "b = -oo"
     ],
     "language": "python",
     "metadata": {},
     "outputs": [],
     "prompt_number": 32
    },
    {
     "cell_type": "code",
     "collapsed": false,
     "input": [
      "a - b"
     ],
     "language": "python",
     "metadata": {},
     "outputs": [
      {
       "metadata": {},
       "output_type": "pyout",
       "prompt_number": 33,
       "text": [
        "oo"
       ]
      }
     ],
     "prompt_number": 33
    },
    {
     "cell_type": "code",
     "collapsed": false,
     "input": [
      "-99999999 > -oo"
     ],
     "language": "python",
     "metadata": {},
     "outputs": [
      {
       "metadata": {},
       "output_type": "pyout",
       "prompt_number": 34,
       "text": [
        "True"
       ]
      }
     ],
     "prompt_number": 34
    },
    {
     "cell_type": "markdown",
     "metadata": {},
     "source": [
      "### \u6700\u5927\u4fc2\u6578\u8a08\u7b97\n",
      "\n",
      "\u57fa\u672c\u4e0a\u5982\u679c\u4efb\u4e09\u9805\n",
      "\n",
      "$$a\\odot x^{\\odot i}, b\\odot x^{\\odot j}, c\\odot x^{\\odot k}$$\n",
      "\n",
      "\u5176\u4e2d $i < j < k$, \u6700\u5927\u3001\u6700\u5c0f\u9805\u90fd\u4e00\u5b9a\u6703\u6709\u6700\u5927\u7684\u6642\u5019, \u53ea\u6709\u4e2d\u9593\u9805\u4e0d\u4e00\u5b9a\u3002\u5982\u679c\u7531\u6700\u5927\u6700\u5c0f\u9805\u6c7a\u5b9a\u4e2d\u9593\u9805, \u6700\u5927\u53ef\u80fd\u662f:\n",
      "\n",
      "$$\\frac{a(k-j) + c(j-i)}{k-i}$$\n",
      "\n",
      "\u518d\u548c\u539f\u4f86\u7684 $b$ \u6bd4, \u6bd4\u8f03\u5927\u7684\u5c31\u662f\u6211\u5011\u6700\u5927\u4fc2\u6578\u3002"
     ]
    },
    {
     "cell_type": "code",
     "collapsed": false,
     "input": [
      "def max_coef(c,b,a):\n",
      "    a = a/S(1)\n",
      "    b = b/S(1)\n",
      "    c = c/S(1)\n",
      "    m = (a+c)/2\n",
      "    return max(b,m)"
     ],
     "language": "python",
     "metadata": {},
     "outputs": [],
     "prompt_number": 35
    },
    {
     "cell_type": "markdown",
     "metadata": {},
     "source": [
      "###[\u7bc4\u4f8b]\n",
      "\n",
      "\u6c42\u4ee5\u4e0b $f(x)$ \u4e4b\u6700\u5927\u4fc2\u6578\u591a\u9805\u5f0f\u3002\n",
      "\n",
      "* $f(x) = x^{\\odot 2} \\oplus 1$\n",
      "* $f(x) = 2\\odot x^{\\odot 2} \\oplus x \\oplus 1$"
     ]
    },
    {
     "cell_type": "code",
     "collapsed": false,
     "input": [
      "max_coef(0,-oo,1)"
     ],
     "language": "python",
     "metadata": {},
     "outputs": [
      {
       "metadata": {},
       "output_type": "pyout",
       "prompt_number": 36,
       "text": [
        "1/2"
       ]
      }
     ],
     "prompt_number": 36
    },
    {
     "cell_type": "code",
     "collapsed": false,
     "input": [
      "max_coef(2,0,1)"
     ],
     "language": "python",
     "metadata": {},
     "outputs": [
      {
       "metadata": {},
       "output_type": "pyout",
       "prompt_number": 37,
       "text": [
        "3/2"
       ]
      }
     ],
     "prompt_number": 37
    },
    {
     "cell_type": "markdown",
     "metadata": {},
     "source": [
      "\u5f15\u5165\u5957\u4ef6, \u8b93\u6211\u5011\u5728 IPython \u88e1\u986f\u793a\u6f02\u4eae\u7684\u6578\u5b78\u7b26\u865f\u3002"
     ]
    },
    {
     "cell_type": "code",
     "collapsed": false,
     "input": [
      "from IPython.display import Math\n",
      "from IPython.display import display"
     ],
     "language": "python",
     "metadata": {},
     "outputs": [],
     "prompt_number": 38
    },
    {
     "cell_type": "code",
     "collapsed": false,
     "input": [
      "def print_maxpoly(c,b,a):\n",
      "    t = max_coef(c,b,a)\n",
      "    coef = [str(c)+\"\\odot x^{\\odot 2}\", str(t)+\"\\odot x\", str(a)]\n",
      "    poly = '\\oplus'.join(coef)\n",
      "    display(Math(poly))"
     ],
     "language": "python",
     "metadata": {},
     "outputs": [],
     "prompt_number": 39
    },
    {
     "cell_type": "markdown",
     "metadata": {},
     "source": [
      "####[1]\n",
      "\n",
      "$$f(x) = x^{\\odot 2} \\oplus 1$$"
     ]
    },
    {
     "cell_type": "code",
     "collapsed": false,
     "input": [
      "print_maxpoly(0, -oo, 1)"
     ],
     "language": "python",
     "metadata": {},
     "outputs": [
      {
       "latex": [
        "$$0\\odot x^{\\odot 2}\\oplus1/2\\odot x\\oplus1$$"
       ],
       "metadata": {},
       "output_type": "display_data",
       "text": [
        "<IPython.core.display.Math at 0x106051d90>"
       ]
      }
     ],
     "prompt_number": 40
    },
    {
     "cell_type": "markdown",
     "metadata": {},
     "source": [
      "####[2]\n",
      "$$f(x) = 2\\odot x^{\\odot 2} \\oplus x \\oplus 1$$"
     ]
    },
    {
     "cell_type": "code",
     "collapsed": false,
     "input": [
      "print_maxpoly(2,0,1)"
     ],
     "language": "python",
     "metadata": {},
     "outputs": [
      {
       "latex": [
        "$$2\\odot x^{\\odot 2}\\oplus3/2\\odot x\\oplus1$$"
       ],
       "metadata": {},
       "output_type": "display_data",
       "text": [
        "<IPython.core.display.Math at 0x106044fd0>"
       ]
      }
     ],
     "prompt_number": 41
    },
    {
     "cell_type": "markdown",
     "metadata": {},
     "source": [
      "\u6211\u5011\u4e5f\u8a31\u6703\u89ba\u5f97\u9019\u6a23\u53ea\u662f\u7279\u4f8b, \u53ea\u80fd\u7528\u5728\u4e8c\u6b21\u591a\u9805\u5f0f\u3002\u6211\u5011\u4fee\u6539\u4e00\u4e0b\u5176\u5be6\u5c31\u53ef\u4ee5\u7528\u5728\u4e00\u822c\u578b\u4e2d\u3002"
     ]
    },
    {
     "cell_type": "code",
     "collapsed": false,
     "input": [
      "def max_coef(a, b, c, i, j, k):\n",
      "    a = a/S(1)\n",
      "    b = b/S(1)\n",
      "    c = c/S(1)\n",
      "    m = (a*(k-j) + c*(j-i))/(k-i)\n",
      "    return max(b,m)"
     ],
     "language": "python",
     "metadata": {},
     "outputs": [],
     "prompt_number": 42
    },
    {
     "cell_type": "code",
     "collapsed": false,
     "input": [
      "max_coef(1,0,2,0,1,2)"
     ],
     "language": "python",
     "metadata": {},
     "outputs": [
      {
       "metadata": {},
       "output_type": "pyout",
       "prompt_number": 43,
       "text": [
        "3/2"
       ]
      }
     ],
     "prompt_number": 43
    },
    {
     "cell_type": "markdown",
     "metadata": {},
     "source": [
      "\u7b54\u6848\u662f\u4e00\u81f4\u7684, \u53ea\u662f\u6211\u5011\u8981\u6a19\u660e\u7528\u7684\u662f\u5e7e\u6b21\u7684\u4fc2\u6578\u3002"
     ]
    },
    {
     "cell_type": "markdown",
     "metadata": {},
     "source": [
      "### [\u7bc4\u4f8b]\n",
      "\n",
      "$$f(x) = 3 \\odot x^{\\odot 4} \\oplus 4 \\odot x^{\\odot 2} \\oplus\n",
      "-1 \\odot x \\oplus 5$$"
     ]
    },
    {
     "cell_type": "markdown",
     "metadata": {},
     "source": [
      "#### step 1: \u6700\u9ad8 4 \u6b21\u9805\u548c\u5e38\u6578\u9805\u90fd\u662f\u6700\u5927\u4fc2\u6578\n",
      "\n",
      "$$f(x) = 3 \\odot x^{\\odot 4} \\oplus ? \\odot x^{\\odot 3} \\oplus ? \\odot x^{\\odot 2} \\oplus\n",
      "? \\odot x \\oplus 5$$"
     ]
    },
    {
     "cell_type": "code",
     "collapsed": false,
     "input": [
      "a4 = 3\n",
      "a0 = 5"
     ],
     "language": "python",
     "metadata": {},
     "outputs": [],
     "prompt_number": 44
    },
    {
     "cell_type": "markdown",
     "metadata": {},
     "source": [
      "#### step 2: 3 \u6b21\u9805\u4fc2\u6578\u7684\u8a08\u7b97"
     ]
    },
    {
     "cell_type": "code",
     "collapsed": false,
     "input": [
      "t1 = max_coef(5,-oo,3,0,3,4)"
     ],
     "language": "python",
     "metadata": {},
     "outputs": [],
     "prompt_number": 45
    },
    {
     "cell_type": "code",
     "collapsed": false,
     "input": [
      "t1"
     ],
     "language": "python",
     "metadata": {},
     "outputs": [
      {
       "metadata": {},
       "output_type": "pyout",
       "prompt_number": 46,
       "text": [
        "7/2"
       ]
      }
     ],
     "prompt_number": 46
    },
    {
     "cell_type": "code",
     "collapsed": false,
     "input": [
      "t2 = max_coef(-1,-oo,3,1,3,4)"
     ],
     "language": "python",
     "metadata": {},
     "outputs": [],
     "prompt_number": 47
    },
    {
     "cell_type": "code",
     "collapsed": false,
     "input": [
      "t2"
     ],
     "language": "python",
     "metadata": {},
     "outputs": [
      {
       "metadata": {},
       "output_type": "pyout",
       "prompt_number": 48,
       "text": [
        "5/3"
       ]
      }
     ],
     "prompt_number": 48
    },
    {
     "cell_type": "code",
     "collapsed": false,
     "input": [
      "t3 = max_coef(4,-oo,3,2,3,4)"
     ],
     "language": "python",
     "metadata": {},
     "outputs": [],
     "prompt_number": 49
    },
    {
     "cell_type": "code",
     "collapsed": false,
     "input": [
      "t3"
     ],
     "language": "python",
     "metadata": {},
     "outputs": [
      {
       "metadata": {},
       "output_type": "pyout",
       "prompt_number": 50,
       "text": [
        "7/2"
       ]
      }
     ],
     "prompt_number": 50
    },
    {
     "cell_type": "code",
     "collapsed": false,
     "input": [
      "a3 = max(t1,t2,t3)"
     ],
     "language": "python",
     "metadata": {},
     "outputs": [],
     "prompt_number": 51
    },
    {
     "cell_type": "code",
     "collapsed": false,
     "input": [
      "a3"
     ],
     "language": "python",
     "metadata": {},
     "outputs": [
      {
       "metadata": {},
       "output_type": "pyout",
       "prompt_number": 52,
       "text": [
        "7/2"
       ]
      }
     ],
     "prompt_number": 52
    },
    {
     "cell_type": "markdown",
     "metadata": {},
     "source": [
      "\u76ee\u524d\u9032\u5ea6:\n",
      "\n",
      "$$f(x) = 3 \\odot x^{\\odot 4} \\oplus \\frac{7}{2} \\odot x^{\\odot 3} \\oplus ? \\odot x^{\\odot 2} \\oplus\n",
      "? \\odot x \\oplus 5$$"
     ]
    },
    {
     "cell_type": "markdown",
     "metadata": {},
     "source": [
      "#### step 3: 2 \u6b21\u9805\u4fc2\u6578\u7684\u8a08\u7b97"
     ]
    },
    {
     "cell_type": "code",
     "collapsed": false,
     "input": [
      "t1 = max_coef(5,4,3,0,2,4)"
     ],
     "language": "python",
     "metadata": {},
     "outputs": [],
     "prompt_number": 53
    },
    {
     "cell_type": "code",
     "collapsed": false,
     "input": [
      "t1"
     ],
     "language": "python",
     "metadata": {},
     "outputs": [
      {
       "metadata": {},
       "output_type": "pyout",
       "prompt_number": 54,
       "text": [
        "4"
       ]
      }
     ],
     "prompt_number": 54
    },
    {
     "cell_type": "code",
     "collapsed": false,
     "input": [
      "t2 = max_coef(-1,4,3,1,2,4)"
     ],
     "language": "python",
     "metadata": {},
     "outputs": [],
     "prompt_number": 55
    },
    {
     "cell_type": "code",
     "collapsed": false,
     "input": [
      "t2"
     ],
     "language": "python",
     "metadata": {},
     "outputs": [
      {
       "metadata": {},
       "output_type": "pyout",
       "prompt_number": 56,
       "text": [
        "4"
       ]
      }
     ],
     "prompt_number": 56
    },
    {
     "cell_type": "code",
     "collapsed": false,
     "input": [
      "a2 = max(t1,t2)"
     ],
     "language": "python",
     "metadata": {},
     "outputs": [],
     "prompt_number": 57
    },
    {
     "cell_type": "code",
     "collapsed": false,
     "input": [
      "a2"
     ],
     "language": "python",
     "metadata": {},
     "outputs": [
      {
       "metadata": {},
       "output_type": "pyout",
       "prompt_number": 58,
       "text": [
        "4"
       ]
      }
     ],
     "prompt_number": 58
    },
    {
     "cell_type": "markdown",
     "metadata": {},
     "source": [
      "\u6211\u5011\u4e0d\u7528\u7406\u6703\u672c\u4f86\u4e0d\u5b58\u5728\u7684 3 \u6b21\u9805! \u4e0d\u4fe1\u6211\u5011\u628a 3 \u6b21\u9805\u8003\u616e\u9032\u53bb\u8a66\u8a66\u3002"
     ]
    },
    {
     "cell_type": "code",
     "collapsed": false,
     "input": [
      "max_coef(5,4,S(7)/2,0,2,3)"
     ],
     "language": "python",
     "metadata": {},
     "outputs": [
      {
       "metadata": {},
       "output_type": "pyout",
       "prompt_number": 59,
       "text": [
        "4"
       ]
      }
     ],
     "prompt_number": 59
    },
    {
     "cell_type": "markdown",
     "metadata": {},
     "source": [
      "\u4e26\u6c92\u6709\u6539\u8b8a\u539f\u6709\u7d50\u679c!"
     ]
    },
    {
     "cell_type": "markdown",
     "metadata": {},
     "source": [
      "\u76ee\u524d\u6210\u679c:\n",
      "\n",
      "$$f(x) = 3 \\odot x^{\\odot 4} \\oplus \\frac{7}{2} \\odot x^{\\odot 3} \\oplus 4 \\odot x^{\\odot 2} \\oplus\n",
      "? \\odot x \\oplus 5$$"
     ]
    },
    {
     "cell_type": "markdown",
     "metadata": {},
     "source": [
      "#### step 4: 1 \u6b21\u9805\u4fc2\u6578\u7684\u8a08\u7b97"
     ]
    },
    {
     "cell_type": "code",
     "collapsed": false,
     "input": [
      "t1 = max_coef(5,-1,3,0,1,4)"
     ],
     "language": "python",
     "metadata": {},
     "outputs": [],
     "prompt_number": 60
    },
    {
     "cell_type": "code",
     "collapsed": false,
     "input": [
      "t2"
     ],
     "language": "python",
     "metadata": {},
     "outputs": [
      {
       "metadata": {},
       "output_type": "pyout",
       "prompt_number": 61,
       "text": [
        "4"
       ]
      }
     ],
     "prompt_number": 61
    },
    {
     "cell_type": "code",
     "collapsed": false,
     "input": [
      "t2 = max_coef(5,-1,4,0,1,2)"
     ],
     "language": "python",
     "metadata": {},
     "outputs": [],
     "prompt_number": 62
    },
    {
     "cell_type": "code",
     "collapsed": false,
     "input": [
      "t2"
     ],
     "language": "python",
     "metadata": {},
     "outputs": [
      {
       "metadata": {},
       "output_type": "pyout",
       "prompt_number": 63,
       "text": [
        "9/2"
       ]
      }
     ],
     "prompt_number": 63
    },
    {
     "cell_type": "code",
     "collapsed": false,
     "input": [
      "a1 = max(t1, t2)"
     ],
     "language": "python",
     "metadata": {},
     "outputs": [],
     "prompt_number": 64
    },
    {
     "cell_type": "code",
     "collapsed": false,
     "input": [
      "a1"
     ],
     "language": "python",
     "metadata": {},
     "outputs": [
      {
       "metadata": {},
       "output_type": "pyout",
       "prompt_number": 65,
       "text": [
        "9/2"
       ]
      }
     ],
     "prompt_number": 65
    },
    {
     "cell_type": "markdown",
     "metadata": {},
     "source": [
      "\u65bc\u662f\u6211\u5011\u6709\u4e86\u6211\u5011\u7684\u6700\u5927\u4fc2\u6578\u591a\u9805\u5f0f\u3002"
     ]
    },
    {
     "cell_type": "markdown",
     "metadata": {},
     "source": [
      "$$f(x) = 3 \\odot x^{\\odot 4} \\oplus \\frac{7}{2} \\odot x^{\\odot 3} \\oplus 4 \\odot x^{\\odot 2} \\oplus\n",
      "\\frac{9}{2} \\odot x \\oplus 5$$"
     ]
    },
    {
     "cell_type": "markdown",
     "metadata": {},
     "source": [
      "#### \u8a08\u7b97\u9019\u500b\u591a\u9805\u5f0f\u7684\u6839"
     ]
    },
    {
     "cell_type": "code",
     "collapsed": false,
     "input": [
      "d1 = a0 - a1"
     ],
     "language": "python",
     "metadata": {},
     "outputs": [],
     "prompt_number": 66
    },
    {
     "cell_type": "code",
     "collapsed": false,
     "input": [
      "d2 = a1 - a2"
     ],
     "language": "python",
     "metadata": {},
     "outputs": [],
     "prompt_number": 67
    },
    {
     "cell_type": "code",
     "collapsed": false,
     "input": [
      "d3 = a2 - a3"
     ],
     "language": "python",
     "metadata": {},
     "outputs": [],
     "prompt_number": 68
    },
    {
     "cell_type": "code",
     "collapsed": false,
     "input": [
      "d4 = a3 - a4"
     ],
     "language": "python",
     "metadata": {},
     "outputs": [],
     "prompt_number": 69
    },
    {
     "cell_type": "code",
     "collapsed": false,
     "input": [
      "d1, d2, d3, d4"
     ],
     "language": "python",
     "metadata": {},
     "outputs": [
      {
       "metadata": {},
       "output_type": "pyout",
       "prompt_number": 70,
       "text": [
        "(1/2, 1/2, 1/2, 1/2)"
       ]
      }
     ],
     "prompt_number": 70
    },
    {
     "cell_type": "markdown",
     "metadata": {},
     "source": [
      "\u6211\u5011\u767c\u73fe\u9019\u662f 1/2 \u91cd\u6839 (\u4e0d\u5c0f\u5fc3\u53c8\u505a\u51fa\u91cd\u6839\u662f\u610f\u5916)\u3002"
     ]
    },
    {
     "cell_type": "markdown",
     "metadata": {},
     "source": [
      "## \u4f7f\u7528 IPython \u6709\u4ec0\u9ebc\u597d\u8655"
     ]
    },
    {
     "cell_type": "markdown",
     "metadata": {},
     "source": [
      "### Python \u6709\u5b8c\u6574\u7684\u793e\u7fa4\u652f\u63f4\n",
      "\n",
      "\u548c\u6578\u5b78\u3001\u79d1\u5b78\u8a08\u7b97\u3001\u6578\u64da\u5206\u6790\u6709\u95dc\u5e38\u7528\u7684\u6709:\n",
      "    \n",
      "* numpy: \u79d1\u5b78\u8a08\u7b97\u57fa\u672c\u74b0\u5883\n",
      "* scipy: \u6bd4 numpy \u66f4\u591a\u79d1\u5b78\u8a08\u7b97\u5957\u4ef6\n",
      "* pandas: \u6578\u64da\u5206\u6790\u7576\u7d05\u5957\u4ef6\n",
      "* matplotlib: \u985e\u4f3c Matlab \u98a8\u683c\u7684\u756b\u5716\u5957\u4ef6\n",
      "* sympy: \u7b26\u865f\u8a08\u7b97\u5957\u4ef6\n",
      "\n",
      "\u9019\u4e9b\u5728 Anaconda \u4e2d\u5168\u6253\u5305\u597d\u4e86\u3002"
     ]
    },
    {
     "cell_type": "markdown",
     "metadata": {},
     "source": [
      "### \u4e00\u908a\u73a9\u4e00\u908a\u7b46\u8a18\n",
      "\n",
      "IPython \u652f\u63f4 <b style=\"color:red;\">Markdown</b> \u683c\u5f0f, \u5feb\u901f\u8a18\u7b46\u8a18, \u4e26\u4e14<b style=\"color:red;\">\u652f\u63f4 LaTeX!</b> \n",
      "\n",
      "LaTeX \u662f\u7528 MathJax \u9054\u6210, \u57fa\u672c\u4e0a\u662f\u53bb MathJax \u7684\u4e00\u500b server \u5e6b\u4f60\u89e3\u6790 LaTeX \u78bc, \u518d\u50b3\u56de\u7d50\u679c\u3002\u96e2\u7dda\u4f7f\u7528\u53ef\u4ee5\u505a\u300c\u4e00\u6b21\u300d\u5b89\u88dd MathJax \u7684\u52d5\u4f5c\u3002\n",
      "\n",
      "    from IPython.external.mathjax import install_mathjax\n",
      "    install_mathjax()\n"
     ]
    },
    {
     "cell_type": "markdown",
     "metadata": {},
     "source": [
      "### Jupyter\n",
      "\n",
      "* IPython \u5176\u5be6\u4e0d\u53ea\u53ef\u4ee5\u7576 Python \u754c\u9762, \u5176\u4ed6\u8a9e\u8a00\u4e5f\u53ef\u4ee5\u3002\n",
      "* Jupyter \u540d\u7a31\u662f\u5f97\u81ea\u958b\u653e\u578b\u7a0b\u5f0f\u8a9e\u8a00\u7684\u555f\u767c: Julian, Python, R\u3002\n",
      "* \u540c\u6642\u7d00\u5ff5\u6709\u300c\u958b\u653e\u578b\u300d\u5206\u4eab\u6982\u5ff5\u7684\u4f3d\u5229\u7565, \u6bd4\u5982\u8aaa\u4ed6\u5728 1610 \u5e74\u89c0\u67e5\u6728\u661f\u6708\u4eae\u7684\u7b46\u8a18\u3002"
     ]
    }
   ],
   "metadata": {}
  }
 ]
}